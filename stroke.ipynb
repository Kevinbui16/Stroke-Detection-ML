{
 "cells": [
  {
   "cell_type": "code",
   "execution_count": 2,
   "id": "initial_id",
   "metadata": {
    "ExecuteTime": {
     "end_time": "2024-04-07T13:22:04.845070Z",
     "start_time": "2024-04-07T13:22:02.190960Z"
    },
    "tags": []
   },
   "outputs": [],
   "source": [
    "import pandas as pd\n",
    "from sklearn.model_selection import train_test_split\n",
    "from sklearn.preprocessing import OrdinalEncoder,StandardScaler,OneHotEncoder\n",
    "from sklearn.pipeline import Pipeline\n",
    "from sklearn.impute import SimpleImputer\n",
    "from sklearn.compose import ColumnTransformer\n",
    "from sklearn.ensemble import RandomForestClassifier\n",
    "from sklearn.metrics import classification_report,accuracy_score,confusion_matrix\n",
    "import matplotlib.pyplot as plt\n",
    "import seaborn as sns\n",
    "import numpy as np\n",
    "from imblearn.over_sampling import SMOTENC\n",
    "from imblearn.pipeline import Pipeline as ImblearnPipeline\n",
    "from sklearn.model_selection import GridSearchCV"
   ]
  },
  {
   "cell_type": "markdown",
   "id": "1e484563e5186fd1",
   "metadata": {},
   "source": [
    "## About the DataSet\n",
    "#### Our hospital has patient information and needs an estimation of exactly which variables affect whether people will be stroked or not.\n",
    " \n",
    "- The goal is:\n",
    "    - Which variables are significant in predicting whether patient will have strokes or not.\n",
    "    - How well do those variables describe whether patient will have strokes or not"
   ]
  },
  {
   "cell_type": "code",
   "execution_count": 3,
   "id": "40e367a692208cc4",
   "metadata": {
    "ExecuteTime": {
     "end_time": "2024-04-07T13:22:06.519747Z",
     "start_time": "2024-04-07T13:22:06.501605Z"
    },
    "collapsed": false,
    "jupyter": {
     "outputs_hidden": false
    }
   },
   "outputs": [],
   "source": [
    "file_path = \"full_data.csv\"\n",
    "\n",
    "data = pd.read_csv(file_path)\n"
   ]
  },
  {
   "cell_type": "markdown",
   "id": "86e4687ed21919e6",
   "metadata": {},
   "source": [
    "#### Exploring the Dataset"
   ]
  },
  {
   "cell_type": "code",
   "execution_count": 4,
   "id": "a30c008ce344d395",
   "metadata": {
    "ExecuteTime": {
     "end_time": "2024-04-07T13:22:07.566586Z",
     "start_time": "2024-04-07T13:22:07.554822Z"
    },
    "collapsed": false,
    "jupyter": {
     "outputs_hidden": false
    }
   },
   "outputs": [
    {
     "data": {
      "text/html": [
       "<div>\n",
       "<style scoped>\n",
       "    .dataframe tbody tr th:only-of-type {\n",
       "        vertical-align: middle;\n",
       "    }\n",
       "\n",
       "    .dataframe tbody tr th {\n",
       "        vertical-align: top;\n",
       "    }\n",
       "\n",
       "    .dataframe thead th {\n",
       "        text-align: right;\n",
       "    }\n",
       "</style>\n",
       "<table border=\"1\" class=\"dataframe\">\n",
       "  <thead>\n",
       "    <tr style=\"text-align: right;\">\n",
       "      <th></th>\n",
       "      <th>gender</th>\n",
       "      <th>age</th>\n",
       "      <th>hypertension</th>\n",
       "      <th>heart_disease</th>\n",
       "      <th>ever_married</th>\n",
       "      <th>work_type</th>\n",
       "      <th>Residence_type</th>\n",
       "      <th>avg_glucose_level</th>\n",
       "      <th>bmi</th>\n",
       "      <th>smoking_status</th>\n",
       "      <th>stroke</th>\n",
       "    </tr>\n",
       "  </thead>\n",
       "  <tbody>\n",
       "    <tr>\n",
       "      <th>0</th>\n",
       "      <td>Male</td>\n",
       "      <td>67.0</td>\n",
       "      <td>0</td>\n",
       "      <td>1</td>\n",
       "      <td>Yes</td>\n",
       "      <td>Private</td>\n",
       "      <td>Urban</td>\n",
       "      <td>228.69</td>\n",
       "      <td>36.6</td>\n",
       "      <td>formerly smoked</td>\n",
       "      <td>1</td>\n",
       "    </tr>\n",
       "    <tr>\n",
       "      <th>1</th>\n",
       "      <td>Male</td>\n",
       "      <td>80.0</td>\n",
       "      <td>0</td>\n",
       "      <td>1</td>\n",
       "      <td>Yes</td>\n",
       "      <td>Private</td>\n",
       "      <td>Rural</td>\n",
       "      <td>105.92</td>\n",
       "      <td>32.5</td>\n",
       "      <td>never smoked</td>\n",
       "      <td>1</td>\n",
       "    </tr>\n",
       "    <tr>\n",
       "      <th>2</th>\n",
       "      <td>Female</td>\n",
       "      <td>49.0</td>\n",
       "      <td>0</td>\n",
       "      <td>0</td>\n",
       "      <td>Yes</td>\n",
       "      <td>Private</td>\n",
       "      <td>Urban</td>\n",
       "      <td>171.23</td>\n",
       "      <td>34.4</td>\n",
       "      <td>smokes</td>\n",
       "      <td>1</td>\n",
       "    </tr>\n",
       "    <tr>\n",
       "      <th>3</th>\n",
       "      <td>Female</td>\n",
       "      <td>79.0</td>\n",
       "      <td>1</td>\n",
       "      <td>0</td>\n",
       "      <td>Yes</td>\n",
       "      <td>Self-employed</td>\n",
       "      <td>Rural</td>\n",
       "      <td>174.12</td>\n",
       "      <td>24.0</td>\n",
       "      <td>never smoked</td>\n",
       "      <td>1</td>\n",
       "    </tr>\n",
       "    <tr>\n",
       "      <th>4</th>\n",
       "      <td>Male</td>\n",
       "      <td>81.0</td>\n",
       "      <td>0</td>\n",
       "      <td>0</td>\n",
       "      <td>Yes</td>\n",
       "      <td>Private</td>\n",
       "      <td>Urban</td>\n",
       "      <td>186.21</td>\n",
       "      <td>29.0</td>\n",
       "      <td>formerly smoked</td>\n",
       "      <td>1</td>\n",
       "    </tr>\n",
       "    <tr>\n",
       "      <th>5</th>\n",
       "      <td>Male</td>\n",
       "      <td>74.0</td>\n",
       "      <td>1</td>\n",
       "      <td>1</td>\n",
       "      <td>Yes</td>\n",
       "      <td>Private</td>\n",
       "      <td>Rural</td>\n",
       "      <td>70.09</td>\n",
       "      <td>27.4</td>\n",
       "      <td>never smoked</td>\n",
       "      <td>1</td>\n",
       "    </tr>\n",
       "    <tr>\n",
       "      <th>6</th>\n",
       "      <td>Female</td>\n",
       "      <td>69.0</td>\n",
       "      <td>0</td>\n",
       "      <td>0</td>\n",
       "      <td>No</td>\n",
       "      <td>Private</td>\n",
       "      <td>Urban</td>\n",
       "      <td>94.39</td>\n",
       "      <td>22.8</td>\n",
       "      <td>never smoked</td>\n",
       "      <td>1</td>\n",
       "    </tr>\n",
       "    <tr>\n",
       "      <th>7</th>\n",
       "      <td>Female</td>\n",
       "      <td>78.0</td>\n",
       "      <td>0</td>\n",
       "      <td>0</td>\n",
       "      <td>Yes</td>\n",
       "      <td>Private</td>\n",
       "      <td>Urban</td>\n",
       "      <td>58.57</td>\n",
       "      <td>24.2</td>\n",
       "      <td>Unknown</td>\n",
       "      <td>1</td>\n",
       "    </tr>\n",
       "    <tr>\n",
       "      <th>8</th>\n",
       "      <td>Female</td>\n",
       "      <td>81.0</td>\n",
       "      <td>1</td>\n",
       "      <td>0</td>\n",
       "      <td>Yes</td>\n",
       "      <td>Private</td>\n",
       "      <td>Rural</td>\n",
       "      <td>80.43</td>\n",
       "      <td>29.7</td>\n",
       "      <td>never smoked</td>\n",
       "      <td>1</td>\n",
       "    </tr>\n",
       "    <tr>\n",
       "      <th>9</th>\n",
       "      <td>Female</td>\n",
       "      <td>61.0</td>\n",
       "      <td>0</td>\n",
       "      <td>1</td>\n",
       "      <td>Yes</td>\n",
       "      <td>Govt_job</td>\n",
       "      <td>Rural</td>\n",
       "      <td>120.46</td>\n",
       "      <td>36.8</td>\n",
       "      <td>smokes</td>\n",
       "      <td>1</td>\n",
       "    </tr>\n",
       "  </tbody>\n",
       "</table>\n",
       "</div>"
      ],
      "text/plain": [
       "   gender   age  hypertension  heart_disease ever_married      work_type  \\\n",
       "0    Male  67.0             0              1          Yes        Private   \n",
       "1    Male  80.0             0              1          Yes        Private   \n",
       "2  Female  49.0             0              0          Yes        Private   \n",
       "3  Female  79.0             1              0          Yes  Self-employed   \n",
       "4    Male  81.0             0              0          Yes        Private   \n",
       "5    Male  74.0             1              1          Yes        Private   \n",
       "6  Female  69.0             0              0           No        Private   \n",
       "7  Female  78.0             0              0          Yes        Private   \n",
       "8  Female  81.0             1              0          Yes        Private   \n",
       "9  Female  61.0             0              1          Yes       Govt_job   \n",
       "\n",
       "  Residence_type  avg_glucose_level   bmi   smoking_status  stroke  \n",
       "0          Urban             228.69  36.6  formerly smoked       1  \n",
       "1          Rural             105.92  32.5     never smoked       1  \n",
       "2          Urban             171.23  34.4           smokes       1  \n",
       "3          Rural             174.12  24.0     never smoked       1  \n",
       "4          Urban             186.21  29.0  formerly smoked       1  \n",
       "5          Rural              70.09  27.4     never smoked       1  \n",
       "6          Urban              94.39  22.8     never smoked       1  \n",
       "7          Urban              58.57  24.2          Unknown       1  \n",
       "8          Rural              80.43  29.7     never smoked       1  \n",
       "9          Rural             120.46  36.8           smokes       1  "
      ]
     },
     "execution_count": 4,
     "metadata": {},
     "output_type": "execute_result"
    }
   ],
   "source": [
    "data.head(10)\n"
   ]
  },
  {
   "cell_type": "code",
   "execution_count": 5,
   "id": "50c01744b201682c",
   "metadata": {
    "ExecuteTime": {
     "end_time": "2024-04-07T13:21:10.321901Z",
     "start_time": "2024-04-07T13:21:10.296512Z"
    },
    "collapsed": false,
    "jupyter": {
     "outputs_hidden": false
    }
   },
   "outputs": [
    {
     "data": {
      "text/plain": [
       "(4981, 11)"
      ]
     },
     "execution_count": 5,
     "metadata": {},
     "output_type": "execute_result"
    }
   ],
   "source": [
    "data.shape\n"
   ]
  },
  {
   "cell_type": "code",
   "execution_count": 6,
   "id": "d5c4edc31556a820",
   "metadata": {
    "ExecuteTime": {
     "end_time": "2024-04-07T13:21:10.732370Z",
     "start_time": "2024-04-07T13:21:10.721210Z"
    },
    "collapsed": false,
    "jupyter": {
     "outputs_hidden": false
    }
   },
   "outputs": [
    {
     "data": {
      "text/html": [
       "<div>\n",
       "<style scoped>\n",
       "    .dataframe tbody tr th:only-of-type {\n",
       "        vertical-align: middle;\n",
       "    }\n",
       "\n",
       "    .dataframe tbody tr th {\n",
       "        vertical-align: top;\n",
       "    }\n",
       "\n",
       "    .dataframe thead th {\n",
       "        text-align: right;\n",
       "    }\n",
       "</style>\n",
       "<table border=\"1\" class=\"dataframe\">\n",
       "  <thead>\n",
       "    <tr style=\"text-align: right;\">\n",
       "      <th></th>\n",
       "      <th>age</th>\n",
       "      <th>hypertension</th>\n",
       "      <th>heart_disease</th>\n",
       "      <th>avg_glucose_level</th>\n",
       "      <th>bmi</th>\n",
       "      <th>stroke</th>\n",
       "    </tr>\n",
       "  </thead>\n",
       "  <tbody>\n",
       "    <tr>\n",
       "      <th>count</th>\n",
       "      <td>4981.000000</td>\n",
       "      <td>4981.000000</td>\n",
       "      <td>4981.000000</td>\n",
       "      <td>4981.000000</td>\n",
       "      <td>4981.000000</td>\n",
       "      <td>4981.000000</td>\n",
       "    </tr>\n",
       "    <tr>\n",
       "      <th>mean</th>\n",
       "      <td>43.419859</td>\n",
       "      <td>0.096165</td>\n",
       "      <td>0.055210</td>\n",
       "      <td>105.943562</td>\n",
       "      <td>28.498173</td>\n",
       "      <td>0.049789</td>\n",
       "    </tr>\n",
       "    <tr>\n",
       "      <th>std</th>\n",
       "      <td>22.662755</td>\n",
       "      <td>0.294848</td>\n",
       "      <td>0.228412</td>\n",
       "      <td>45.075373</td>\n",
       "      <td>6.790464</td>\n",
       "      <td>0.217531</td>\n",
       "    </tr>\n",
       "    <tr>\n",
       "      <th>min</th>\n",
       "      <td>0.080000</td>\n",
       "      <td>0.000000</td>\n",
       "      <td>0.000000</td>\n",
       "      <td>55.120000</td>\n",
       "      <td>14.000000</td>\n",
       "      <td>0.000000</td>\n",
       "    </tr>\n",
       "    <tr>\n",
       "      <th>25%</th>\n",
       "      <td>25.000000</td>\n",
       "      <td>0.000000</td>\n",
       "      <td>0.000000</td>\n",
       "      <td>77.230000</td>\n",
       "      <td>23.700000</td>\n",
       "      <td>0.000000</td>\n",
       "    </tr>\n",
       "    <tr>\n",
       "      <th>50%</th>\n",
       "      <td>45.000000</td>\n",
       "      <td>0.000000</td>\n",
       "      <td>0.000000</td>\n",
       "      <td>91.850000</td>\n",
       "      <td>28.100000</td>\n",
       "      <td>0.000000</td>\n",
       "    </tr>\n",
       "    <tr>\n",
       "      <th>75%</th>\n",
       "      <td>61.000000</td>\n",
       "      <td>0.000000</td>\n",
       "      <td>0.000000</td>\n",
       "      <td>113.860000</td>\n",
       "      <td>32.600000</td>\n",
       "      <td>0.000000</td>\n",
       "    </tr>\n",
       "    <tr>\n",
       "      <th>max</th>\n",
       "      <td>82.000000</td>\n",
       "      <td>1.000000</td>\n",
       "      <td>1.000000</td>\n",
       "      <td>271.740000</td>\n",
       "      <td>48.900000</td>\n",
       "      <td>1.000000</td>\n",
       "    </tr>\n",
       "  </tbody>\n",
       "</table>\n",
       "</div>"
      ],
      "text/plain": [
       "               age  hypertension  heart_disease  avg_glucose_level  \\\n",
       "count  4981.000000   4981.000000    4981.000000        4981.000000   \n",
       "mean     43.419859      0.096165       0.055210         105.943562   \n",
       "std      22.662755      0.294848       0.228412          45.075373   \n",
       "min       0.080000      0.000000       0.000000          55.120000   \n",
       "25%      25.000000      0.000000       0.000000          77.230000   \n",
       "50%      45.000000      0.000000       0.000000          91.850000   \n",
       "75%      61.000000      0.000000       0.000000         113.860000   \n",
       "max      82.000000      1.000000       1.000000         271.740000   \n",
       "\n",
       "               bmi       stroke  \n",
       "count  4981.000000  4981.000000  \n",
       "mean     28.498173     0.049789  \n",
       "std       6.790464     0.217531  \n",
       "min      14.000000     0.000000  \n",
       "25%      23.700000     0.000000  \n",
       "50%      28.100000     0.000000  \n",
       "75%      32.600000     0.000000  \n",
       "max      48.900000     1.000000  "
      ]
     },
     "execution_count": 6,
     "metadata": {},
     "output_type": "execute_result"
    }
   ],
   "source": [
    "data.describe()\n"
   ]
  },
  {
   "cell_type": "code",
   "execution_count": 7,
   "id": "e9aa73261ad9da04",
   "metadata": {
    "ExecuteTime": {
     "end_time": "2024-04-07T13:21:11.169760Z",
     "start_time": "2024-04-07T13:21:11.162369Z"
    },
    "collapsed": false,
    "jupyter": {
     "outputs_hidden": false
    }
   },
   "outputs": [
    {
     "name": "stdout",
     "output_type": "stream",
     "text": [
      "<class 'pandas.core.frame.DataFrame'>\n",
      "RangeIndex: 4981 entries, 0 to 4980\n",
      "Data columns (total 11 columns):\n",
      " #   Column             Non-Null Count  Dtype  \n",
      "---  ------             --------------  -----  \n",
      " 0   gender             4981 non-null   object \n",
      " 1   age                4981 non-null   float64\n",
      " 2   hypertension       4981 non-null   int64  \n",
      " 3   heart_disease      4981 non-null   int64  \n",
      " 4   ever_married       4981 non-null   object \n",
      " 5   work_type          4981 non-null   object \n",
      " 6   Residence_type     4981 non-null   object \n",
      " 7   avg_glucose_level  4981 non-null   float64\n",
      " 8   bmi                4981 non-null   float64\n",
      " 9   smoking_status     4981 non-null   object \n",
      " 10  stroke             4981 non-null   int64  \n",
      "dtypes: float64(3), int64(3), object(5)\n",
      "memory usage: 428.2+ KB\n"
     ]
    }
   ],
   "source": [
    "data.info()\n"
   ]
  },
  {
   "cell_type": "code",
   "execution_count": 8,
   "id": "e642569f70619699",
   "metadata": {
    "ExecuteTime": {
     "end_time": "2024-04-07T13:19:54.479798Z",
     "start_time": "2024-04-07T13:19:54.445934Z"
    },
    "collapsed": false,
    "jupyter": {
     "outputs_hidden": false
    }
   },
   "outputs": [
    {
     "data": {
      "text/html": [
       "<div>\n",
       "<style scoped>\n",
       "    .dataframe tbody tr th:only-of-type {\n",
       "        vertical-align: middle;\n",
       "    }\n",
       "\n",
       "    .dataframe tbody tr th {\n",
       "        vertical-align: top;\n",
       "    }\n",
       "\n",
       "    .dataframe thead th {\n",
       "        text-align: right;\n",
       "    }\n",
       "</style>\n",
       "<table border=\"1\" class=\"dataframe\">\n",
       "  <thead>\n",
       "    <tr style=\"text-align: right;\">\n",
       "      <th></th>\n",
       "      <th>gender</th>\n",
       "      <th>age</th>\n",
       "      <th>hypertension</th>\n",
       "      <th>heart_disease</th>\n",
       "      <th>ever_married</th>\n",
       "      <th>work_type</th>\n",
       "      <th>Residence_type</th>\n",
       "      <th>avg_glucose_level</th>\n",
       "      <th>bmi</th>\n",
       "      <th>smoking_status</th>\n",
       "      <th>stroke</th>\n",
       "    </tr>\n",
       "  </thead>\n",
       "  <tbody>\n",
       "  </tbody>\n",
       "</table>\n",
       "</div>"
      ],
      "text/plain": [
       "Empty DataFrame\n",
       "Columns: [gender, age, hypertension, heart_disease, ever_married, work_type, Residence_type, avg_glucose_level, bmi, smoking_status, stroke]\n",
       "Index: []"
      ]
     },
     "execution_count": 8,
     "metadata": {},
     "output_type": "execute_result"
    }
   ],
   "source": [
    "data[data.duplicated()]\n"
   ]
  },
  {
   "cell_type": "markdown",
   "id": "6531891ae7ce2f90",
   "metadata": {},
   "source": [
    "#### There are no null or duplicated data points."
   ]
  },
  {
   "cell_type": "markdown",
   "id": "e7d8a66abcc79996",
   "metadata": {},
   "source": [
    "## Target Variable 'stroke'"
   ]
  },
  {
   "cell_type": "code",
   "execution_count": 9,
   "id": "9f7293bd842d6dbf",
   "metadata": {
    "ExecuteTime": {
     "start_time": "2024-04-07T08:07:17.896127Z"
    },
    "collapsed": false,
    "is_executing": true,
    "jupyter": {
     "outputs_hidden": false
    }
   },
   "outputs": [
    {
     "data": {
      "image/png": "[encoded data removed]",
      "text/plain": [
       "<Figure size 600x400 with 1 Axes>"
      ]
     },
     "metadata": {},
     "output_type": "display_data"
    }
   ],
   "source": [
    "plt.figure(figsize=(6, 4))\n",
    "sns.countplot(data=data, y='stroke')\n",
    "\n",
    "plt.title(\"Count of Stroke Cases\")\n",
    "plt.xlabel(\"Count\")\n",
    "plt.ylabel(\"Stroke\")\n",
    "plt.show()\n"
   ]
  },
  {
   "cell_type": "markdown",
   "id": "453b384294ac6554",
   "metadata": {},
   "source": [
    "#### We can observe that:\n",
    "- We have highly imbalance data in the target of stroke.\n",
    "\n",
    "#### Solution:\n",
    "- We can use RandomOverSampler to solve this problem.However, it just doesn't have any new samples and is just a duplicate. On top of that, it will balance until it reaches the highest sample of the other sample. In this case, we will use SMOTENC in order to balance the data, which will fix all the problems RandomOverSampler encounters.\n",
    "\n",
    "\n"
   ]
  },
  {
   "cell_type": "code",
   "execution_count": 10,
   "id": "bfbcf8cd8f9cea73",
   "metadata": {
    "ExecuteTime": {
     "start_time": "2024-04-07T08:07:17.896401Z"
    },
    "collapsed": false,
    "is_executing": true,
    "jupyter": {
     "outputs_hidden": false
    }
   },
   "outputs": [
    {
     "data": {
      "image/png": "[encoded data removed]",
      "text/plain": [
       "<Figure size 1200x900 with 2 Axes>"
      ]
     },
     "metadata": {},
     "output_type": "display_data"
    }
   ],
   "source": [
    "#Exclude non-numeric columns\n",
    "numeric_data = data.select_dtypes(include=[np.number])\n",
    "\n",
    "plt.figure(figsize=(12, 9))\n",
    "corr_mat = numeric_data.corr()\n",
    "sns.heatmap(corr_mat, annot=True, cmap='coolwarm')\n",
    "\n",
    "plt.title(\"Correlation between Numerical Columns\")\n",
    "plt.tight_layout()\n",
    "plt.show()"
   ]
  },
  {
   "cell_type": "markdown",
   "id": "915c48cf8f7a3e88",
   "metadata": {},
   "source": [
    "#### We can observe that:\n",
    "- In numerical features, there is no strong correlation between features and target. In addition, we see that the target-to-target correlation is low, which is beneficial and helps to avoid overfitting in the future."
   ]
  },
  {
   "cell_type": "code",
   "execution_count": 11,
   "id": "23db7448e555c23d",
   "metadata": {
    "ExecuteTime": {
     "start_time": "2024-04-07T08:07:17.896780Z"
    },
    "collapsed": false,
    "is_executing": true,
    "jupyter": {
     "outputs_hidden": false
    }
   },
   "outputs": [
    {
     "data": {
      "image/png": "[encoded data removed]",
      "text/plain": [
       "<Figure size 1200x1000 with 6 Axes>"
      ]
     },
     "metadata": {},
     "output_type": "display_data"
    }
   ],
   "source": [
    "# Determine the number of rows and columns for subplot grid\n",
    "num_features = len(numeric_data.columns)\n",
    "num_rows = int(np.ceil(num_features / 2))\n",
    "num_cols = 3\n",
    "\n",
    "# Create subplots\n",
    "plt.figure(figsize=(12, 10))\n",
    "\n",
    "# Iterate over numeric columns and create histograms\n",
    "for i, column in enumerate(numeric_data.columns, start=1):\n",
    "    plt.subplot(num_rows, num_cols, i)\n",
    "    plt.hist(data[column], color='skyblue', edgecolor='black')\n",
    "    plt.xlabel(column)\n",
    "    plt.ylabel(\"Frequency\")\n",
    "\n",
    "# Adjust layout and show plot\n",
    "plt.suptitle(\"Histogram of Numerical Columns\")\n",
    "plt.tight_layout()\n",
    "plt.show()"
   ]
  },
  {
   "cell_type": "markdown",
   "id": "f42eda43c636d390",
   "metadata": {},
   "source": [
    "\n",
    "- We are using histogram in this case in order to easier point out the outliers. As we can see from the chart above, their is no outlier in this dataset"
   ]
  },
  {
   "cell_type": "markdown",
   "id": "6d5566540e2cc73a",
   "metadata": {},
   "source": [
    "### Exploring Categorical Variables"
   ]
  },
  {
   "cell_type": "code",
   "execution_count": 12,
   "id": "db6f5e1827b2f3fe",
   "metadata": {
    "ExecuteTime": {
     "start_time": "2024-04-07T08:07:17.897194Z"
    },
    "collapsed": false,
    "is_executing": true,
    "jupyter": {
     "outputs_hidden": false
    }
   },
   "outputs": [
    {
     "data": {
      "text/plain": [
       "Index(['gender', 'ever_married', 'work_type', 'Residence_type',\n",
       "       'smoking_status'],\n",
       "      dtype='object')"
      ]
     },
     "execution_count": 12,
     "metadata": {},
     "output_type": "execute_result"
    }
   ],
   "source": [
    "cat_cols = data.select_dtypes(include=['object']).columns\n",
    "cat_cols"
   ]
  },
  {
   "cell_type": "code",
   "execution_count": 13,
   "id": "b171ecfa780acc39",
   "metadata": {
    "ExecuteTime": {
     "start_time": "2024-04-07T08:07:17.897559Z"
    },
    "collapsed": false,
    "is_executing": true,
    "jupyter": {
     "outputs_hidden": false
    }
   },
   "outputs": [
    {
     "name": "stdout",
     "output_type": "stream",
     "text": [
      "Gender: ['Male' 'Female']\n",
      "Ever_Married: ['Yes' 'No']\n",
      "Work_Type: ['Private' 'Self-employed' 'Govt_job' 'children']\n",
      "Residence_Type: ['Urban' 'Rural']\n",
      "Smoking_Status: ['formerly smoked' 'never smoked' 'smokes' 'Unknown']\n"
     ]
    }
   ],
   "source": [
    "for i, col in enumerate(cat_cols):\n",
    "    print(f'{col.title()}: {data[col].unique()}')"
   ]
  },
  {
   "cell_type": "markdown",
   "id": "be1c47fa-b06e-4fe3-b617-9daba61983f2",
   "metadata": {},
   "source": [
    "#### Ploting categorical features to see number of categories in that features"
   ]
  },
  {
   "cell_type": "code",
   "execution_count": 14,
   "id": "95e3aed83807ed6d",
   "metadata": {
    "ExecuteTime": {
     "start_time": "2024-04-07T08:07:17.897987Z"
    },
    "collapsed": false,
    "is_executing": true,
    "jupyter": {
     "outputs_hidden": false
    }
   },
   "outputs": [
    {
     "data": {
      "image/png": "[encoded data removed]",
      "text/plain": [
       "<Figure size 1000x2000 with 5 Axes>"
      ]
     },
     "metadata": {},
     "output_type": "display_data"
    }
   ],
   "source": [
    "# Create subplots\n",
    "fig, axes = plt.subplots(nrows=5, ncols=1, figsize=(10, 20))\n",
    "\n",
    "# Plot for Gender\n",
    "sns.countplot(y='gender', data=data, ax=axes[0])\n",
    "axes[0].set_title('Gender')\n",
    "\n",
    "# Plot for Ever_Married\n",
    "sns.countplot(y='ever_married', data=data, ax=axes[1])\n",
    "axes[1].set_title('Ever Married')\n",
    "\n",
    "# Plot for Work_Type\n",
    "sns.countplot(y='work_type', data=data, ax=axes[2])\n",
    "axes[2].set_title('Work Type')\n",
    "\n",
    "# Plot for Residence_Type\n",
    "sns.countplot(y='Residence_type', data=data, ax=axes[3])\n",
    "axes[3].set_title('Residence Type')\n",
    "\n",
    "# Plot for Smoking_Status\n",
    "sns.countplot(y='smoking_status', data=data, ax=axes[4])\n",
    "axes[4].set_title('Smoking Status')\n",
    "\n",
    "plt.tight_layout()\n",
    "plt.show()\n"
   ]
  },
  {
   "cell_type": "markdown",
   "id": "94932496-1e70-4fa1-b5f9-7479ae664c1c",
   "metadata": {
    "ExecuteTime": {
     "start_time": "2024-04-07T08:07:17.898280Z"
    },
    "is_executing": true
   },
   "source": [
    "## Building a Classification Model"
   ]
  },
  {
   "cell_type": "code",
   "execution_count": 15,
   "id": "1e5bd02a4ecc955",
   "metadata": {
    "ExecuteTime": {
     "start_time": "2024-04-07T08:07:17.898558Z"
    },
    "collapsed": false,
    "is_executing": true,
    "jupyter": {
     "outputs_hidden": false
    }
   },
   "outputs": [],
   "source": [
    "target = \"stroke\"\n",
    "# input features\n",
    "x = data.drop([target,\"gender\"],axis=1)\n",
    "\n",
    "# target variable\n",
    "y = data[target]"
   ]
  },
  {
   "cell_type": "code",
   "execution_count": 16,
   "id": "5cc94c254691f81f",
   "metadata": {
    "collapsed": false,
    "jupyter": {
     "outputs_hidden": false
    }
   },
   "outputs": [
    {
     "name": "stdout",
     "output_type": "stream",
     "text": [
      "X_train shape:  (3984, 9)\n",
      "X_test shape:  (997, 9)\n",
      "y_train shape:  (3984,)\n",
      "y_test shape:  (997, 9)\n"
     ]
    }
   ],
   "source": [
    "x_train,x_test,y_train,y_test = train_test_split(x,y,test_size=0.2,random_state=2024)\n",
    "\n",
    "print(\"X_train shape: \",x_train.shape)\n",
    "print(\"X_test shape: \", x_test.shape)\n",
    "print(\"y_train shape: \", y_train.shape)\n",
    "print(\"y_test shape: \", x_test.shape)"
   ]
  },
  {
   "cell_type": "markdown",
   "id": "7cc24083-9622-4758-a7d8-0c7c07e09174",
   "metadata": {},
   "source": [
    "#### Preprocessing categorical feartures"
   ]
  },
  {
   "cell_type": "code",
   "execution_count": 17,
   "id": "f1a924fb-9820-4d77-964b-5e6ed55ecd3c",
   "metadata": {},
   "outputs": [],
   "source": [
    "nom_transformer = Pipeline(steps=[\n",
    "    (\"imputer\",SimpleImputer(strategy=\"most_frequent\")),\n",
    "    (\"scaler\",OneHotEncoder())\n",
    "])"
   ]
  },
  {
   "cell_type": "markdown",
   "id": "c39f48ab-8a21-4b6e-aab7-11b0289cf74a",
   "metadata": {},
   "source": [
    "#### Preprocessing numerical and boolean feartures"
   ]
  },
  {
   "cell_type": "code",
   "execution_count": 18,
   "id": "4381f56d-35f0-417f-a797-0c6236ed1c11",
   "metadata": {},
   "outputs": [],
   "source": [
    "ever_married_values = x_train[\"ever_married\"].unique()\n",
    "residence_type_values = x_train[\"Residence_type\"].unique()\n",
    "smoking_status_values = [\"smokes\",\"formerly smoked\", \"Unknown\",\"never smoked\"]\n",
    "\n",
    "\n",
    "ord_transformer = Pipeline(steps=[\n",
    "    (\"imputer\",SimpleImputer(strategy=\"most_frequent\")),\n",
    "    (\"ord\",OrdinalEncoder(categories=[ever_married_values,residence_type_values,smoking_status_values]))\n",
    "])\n",
    "\n",
    "num_transformer = Pipeline(steps=[\n",
    "    (\"imputer\", SimpleImputer(strategy=\"median\")),\n",
    "    (\"scaler\",StandardScaler())\n",
    "])"
   ]
  },
  {
   "cell_type": "markdown",
   "id": "5cd9851b-be09-4a2e-a829-962772f37c6f",
   "metadata": {},
   "source": [
    "#### Fit model and Predicting"
   ]
  },
  {
   "cell_type": "code",
   "execution_count": 19,
   "id": "73864cda-3afa-4cc0-993d-13678ac8926d",
   "metadata": {},
   "outputs": [
    {
     "data": {
      "text/html": [
       "<div>\n",
       "<style scoped>\n",
       "    .dataframe tbody tr th:only-of-type {\n",
       "        vertical-align: middle;\n",
       "    }\n",
       "\n",
       "    .dataframe tbody tr th {\n",
       "        vertical-align: top;\n",
       "    }\n",
       "\n",
       "    .dataframe thead th {\n",
       "        text-align: right;\n",
       "    }\n",
       "</style>\n",
       "<table border=\"1\" class=\"dataframe\">\n",
       "  <thead>\n",
       "    <tr style=\"text-align: right;\">\n",
       "      <th></th>\n",
       "      <th>Predicted</th>\n",
       "      <th>Actual</th>\n",
       "    </tr>\n",
       "  </thead>\n",
       "  <tbody>\n",
       "    <tr>\n",
       "      <th>2944</th>\n",
       "      <td>0</td>\n",
       "      <td>0</td>\n",
       "    </tr>\n",
       "    <tr>\n",
       "      <th>4467</th>\n",
       "      <td>0</td>\n",
       "      <td>0</td>\n",
       "    </tr>\n",
       "    <tr>\n",
       "      <th>3206</th>\n",
       "      <td>0</td>\n",
       "      <td>0</td>\n",
       "    </tr>\n",
       "    <tr>\n",
       "      <th>4754</th>\n",
       "      <td>0</td>\n",
       "      <td>0</td>\n",
       "    </tr>\n",
       "    <tr>\n",
       "      <th>4097</th>\n",
       "      <td>0</td>\n",
       "      <td>0</td>\n",
       "    </tr>\n",
       "    <tr>\n",
       "      <th>...</th>\n",
       "      <td>...</td>\n",
       "      <td>...</td>\n",
       "    </tr>\n",
       "    <tr>\n",
       "      <th>798</th>\n",
       "      <td>0</td>\n",
       "      <td>0</td>\n",
       "    </tr>\n",
       "    <tr>\n",
       "      <th>1032</th>\n",
       "      <td>0</td>\n",
       "      <td>0</td>\n",
       "    </tr>\n",
       "    <tr>\n",
       "      <th>2053</th>\n",
       "      <td>0</td>\n",
       "      <td>0</td>\n",
       "    </tr>\n",
       "    <tr>\n",
       "      <th>4040</th>\n",
       "      <td>0</td>\n",
       "      <td>0</td>\n",
       "    </tr>\n",
       "    <tr>\n",
       "      <th>169</th>\n",
       "      <td>0</td>\n",
       "      <td>1</td>\n",
       "    </tr>\n",
       "  </tbody>\n",
       "</table>\n",
       "<p>997 rows × 2 columns</p>\n",
       "</div>"
      ],
      "text/plain": [
       "      Predicted  Actual\n",
       "2944          0       0\n",
       "4467          0       0\n",
       "3206          0       0\n",
       "4754          0       0\n",
       "4097          0       0\n",
       "...         ...     ...\n",
       "798           0       0\n",
       "1032          0       0\n",
       "2053          0       0\n",
       "4040          0       0\n",
       "169           0       1\n",
       "\n",
       "[997 rows x 2 columns]"
      ]
     },
     "metadata": {},
     "output_type": "display_data"
    }
   ],
   "source": [
    "preprocessor = ColumnTransformer(transformers=[\n",
    "    (\"ord_feartures\",ord_transformer,[\"ever_married\",\"Residence_type\",\"smoking_status\"]),\n",
    "    (\"num_features\",num_transformer,[\"age\",\"hypertension\",\"heart_disease\",\"avg_glucose_level\",\"bmi\"]),\n",
    "    (\"nom_features\",nom_transformer,[\"work_type\"])\n",
    "])\n",
    "\n",
    "clf = Pipeline(steps=[\n",
    "    (\"preprocessor\",preprocessor),\n",
    "    (\"model\",RandomForestClassifier(random_state=2024))\n",
    "])\n",
    "\n",
    "clf.fit(x_train,y_train)\n",
    "y_predict = clf.predict(x_test)\n",
    "\n",
    "# Create a DataFrame to store predicted and actual values\n",
    "result_df = pd.DataFrame({\"Predicted\": y_predict, \"Actual\": y_test})\n",
    "\n",
    "# Display the DataFrame\n",
    "display(result_df)"
   ]
  },
  {
   "cell_type": "markdown",
   "id": "7a1272cf-11b0-4d56-94e3-4e78e3d0faa6",
   "metadata": {},
   "source": [
    "#### Evaluate performance (before balanced data)"
   ]
  },
  {
   "cell_type": "code",
   "execution_count": 20,
   "id": "0f1a059b-7168-4605-90c1-6a94d8c925ff",
   "metadata": {},
   "outputs": [
    {
     "name": "stdout",
     "output_type": "stream",
     "text": [
      "Accuracy:  0.9438314944834504\n",
      "Classification report:\n",
      "               precision    recall  f1-score   support\n",
      "\n",
      "           0       0.95      1.00      0.97       942\n",
      "           1       0.33      0.02      0.03        55\n",
      "\n",
      "    accuracy                           0.94       997\n",
      "   macro avg       0.64      0.51      0.50       997\n",
      "weighted avg       0.91      0.94      0.92       997\n",
      "\n",
      "Confusion matrix:\n",
      " [[940   2]\n",
      " [ 54   1]]\n"
     ]
    }
   ],
   "source": [
    "print(\"Accuracy: \",accuracy_score(y_test,y_predict))\n",
    "print(\"Classification report:\\n\",classification_report(y_test,y_predict))\n",
    "print(\"Confusion matrix:\\n\",confusion_matrix(y_test,y_predict))"
   ]
  },
  {
   "cell_type": "markdown",
   "id": "222a4aad-6d17-4579-bc1d-be50b2d52536",
   "metadata": {},
   "source": [
    "## From the above performance metrics: \n",
    "\n",
    "#### We can conclude that our models have great performance. However,this is not actually true because we have imbalanced data in which patients who don't have strokes are the majority. In order to check if it is correct or not, we will use SMOTENC in order to balance the data and also use GridSearchCV to find the best hyperparameter.\n"
   ]
  },
  {
   "cell_type": "code",
   "execution_count": 21,
   "id": "740436af-b402-4ff5-80da-4f27ed775ecb",
   "metadata": {},
   "outputs": [],
   "source": [
    "#store categorical features into list\n",
    "categorical_features = ['ever_married', 'Residence_type', 'work_type', 'smoking_status']\n",
    "\n",
    "#create empty list to store the index of that feature\n",
    "categorical_features_indices = []\n",
    "\n",
    "#find index and append to new list\n",
    "for feature_name in categorical_features:\n",
    "    feature_index = x_train.columns.get_loc(feature_name)\n",
    "    categorical_features_indices.append(feature_index)\n",
    "\n",
    "\n",
    "balance_data = SMOTENC(categorical_features=categorical_features_indices,sampling_strategy={1:1800}, random_state=2024)\n",
    "x_train_balanced, y_train_balanced = balance_data.fit_resample(x_train, y_train)\n",
    "\n",
    "clf = ImblearnPipeline(steps=[\n",
    "    (\"preprocessor\",preprocessor),\n",
    "    (\"oversampler\", balance_data),\n",
    "    (\"model\",RandomForestClassifier(random_state=2024))\n",
    "])\n"
   ]
  },
  {
   "cell_type": "markdown",
   "id": "76159a6d-f8f1-4651-a32a-f28c5f6ab43d",
   "metadata": {},
   "source": [
    "#### Compare before and after balance data"
   ]
  },
  {
   "cell_type": "code",
   "execution_count": 30,
   "id": "f3aa4e2b-f6dd-47ef-9484-ed6b39c12b49",
   "metadata": {},
   "outputs": [
    {
     "data": {
      "image/png": "[encoded data removed]",
      "text/plain": [
       "<Figure size 1200x600 with 2 Axes>"
      ]
     },
     "metadata": {},
     "output_type": "display_data"
    }
   ],
   "source": [
    "import matplotlib.pyplot as plt\n",
    "\n",
    "# Define the classes and their respective counts before and after balancing\n",
    "classes_before = y_train.value_counts(normalize=False)\n",
    "classes_after = y_train_balanced.value_counts(normalize=False)\n",
    "\n",
    "# Plotting before and after balancing\n",
    "plt.figure(figsize=(12, 6))\n",
    "\n",
    "plt.subplot(1, 2, 1)\n",
    "plt.bar(classes_before.index, classes_before.values, color='skyblue')\n",
    "plt.title('Before Balancing')\n",
    "plt.xlabel('Classes')\n",
    "plt.ylabel('Count')\n",
    "\n",
    "plt.subplot(1, 2, 2)\n",
    "plt.bar(classes_after.index, classes_after.values, color='lightgreen')\n",
    "plt.title('After Balancing')\n",
    "plt.xlabel('Classes')\n",
    "plt.ylabel('Count')\n",
    "\n",
    "plt.tight_layout()\n",
    "plt.show()\n",
    "\n"
   ]
  },
  {
   "cell_type": "markdown",
   "id": "e68a3f3d-edbe-4b04-a674-97a4121c5f05",
   "metadata": {},
   "source": [
    "#### Evaluate performance (after balanced data)"
   ]
  },
  {
   "cell_type": "code",
   "execution_count": 35,
   "id": "da6bf09e-df1e-4873-99d9-90c4861b5284",
   "metadata": {},
   "outputs": [
    {
     "name": "stdout",
     "output_type": "stream",
     "text": [
      "accuracy:  0.9197592778335005\n",
      "              precision    recall  f1-score   support\n",
      "\n",
      "           0       0.96      0.96      0.96       942\n",
      "           1       0.25      0.24      0.25        55\n",
      "\n",
      "    accuracy                           0.92       997\n",
      "   macro avg       0.61      0.60      0.60       997\n",
      "weighted avg       0.92      0.92      0.92       997\n",
      "\n",
      "[[904  38]\n",
      " [ 42  13]]\n"
     ]
    }
   ],
   "source": [
    "clf.fit(x_train_balanced, y_train_balanced)\n",
    "y_predict = clf.predict(x_test)\n",
    "\n",
    "print(\"accuracy: \",accuracy_score(y_test,y_predict))\n",
    "print(classification_report(y_test,y_predict))\n",
    "print(confusion_matrix(y_test,y_predict))"
   ]
  },
  {
   "cell_type": "markdown",
   "id": "4801986d-ac2e-49a8-9ea7-559b732fd0c4",
   "metadata": {},
   "source": [
    "## From the above performance metrics(After balance data): \n",
    "\n",
    "#### We can see that after balance data. It's have slight increase in our performance metric that is precision increase from 0.91 to 0.92 and also the true negative rate also increase. It depend on our hospital, if they want concentrate on specific performance such as precision, recall or f1. We will find the best model that have optimum performance metric in that field."
   ]
  },
  {
   "cell_type": "markdown",
   "id": "c7a629f8-7445-45a6-af02-efd156a805f6",
   "metadata": {},
   "source": [
    "## Continue improve performance of model:\n",
    "\n",
    "#### After balancing the data, there is also another way to enhance our data: finding the best parameter of that model using GridSearchCV or RandomizedSearchCV, which is very helpful to optimise our model and also compare it with other models to find the best one to deploy.\n"
   ]
  },
  {
   "cell_type": "code",
   "execution_count": 47,
   "id": "22ee461c-201e-491b-a535-4297f228796f",
   "metadata": {
    "ExecuteTime": {
     "end_time": "2024-04-07T13:19:44.775995Z",
     "start_time": "2024-04-07T13:19:44.543935Z"
    }
   },
   "outputs": [
    {
     "name": "stdout",
     "output_type": "stream",
     "text": [
      "Fitting 4 folds for each of 60 candidates, totalling 240 fits\n",
      "{'model__class_weight': 'balanced_subsample', 'model__criterion': 'entropy', 'model__max_features': 'sqrt', 'model__n_estimators': 200}\n"
     ]
    }
   ],
   "source": [
    "param_grid = {\n",
    "    \"model__criterion\": [\"gini\", \"entropy\"],\n",
    "    \"model__n_estimators\": [5,10,50,100,200],\n",
    "    \"model__max_features\": [\"sqrt\", \"log2\",None],\n",
    "    \"model__class_weight\": [\"balanced\", \"balanced_subsample\"],\n",
    "}\n",
    "\n",
    "grid_search = GridSearchCV(clf,param_grid=param_grid,cv=4,error_score='raise',verbose=1,n_jobs=-1)\n",
    "\n",
    "grid_search.fit(x_train_balanced, y_train_balanced)\n",
    "\n",
    "y_predict = grid_search.predict(x_test)\n",
    "print(grid_search.best_params_)"
   ]
  },
  {
   "cell_type": "markdown",
   "id": "0248db0c-5b2c-41f1-8c42-40999f9dcfab",
   "metadata": {},
   "source": [
    "## Fit best param into model in order to see the performance"
   ]
  },
  {
   "cell_type": "code",
   "execution_count": 46,
   "id": "d91f98d3-e864-4187-b5e0-c9de1e9d9746",
   "metadata": {},
   "outputs": [
    {
     "name": "stdout",
     "output_type": "stream",
     "text": [
      "accuracy:  0.9137412236710131\n",
      "              precision    recall  f1-score   support\n",
      "\n",
      "           0       0.95      0.96      0.95       942\n",
      "           1       0.20      0.18      0.19        55\n",
      "\n",
      "    accuracy                           0.91       997\n",
      "   macro avg       0.57      0.57      0.57       997\n",
      "weighted avg       0.91      0.91      0.91       997\n",
      "\n",
      "[[901  41]\n",
      " [ 45  10]]\n"
     ]
    }
   ],
   "source": [
    "\n",
    "clf = ImblearnPipeline(steps=[\n",
    "    (\"preprocessor\",preprocessor),\n",
    "    (\"oversampler\", balance_data),\n",
    "    (\"model\",RandomForestClassifier(class_weight=\"balanced_subsample\",criterion=\"entropy\",max_features=\"sqrt\",n_estimators=200,random_state=2024))\n",
    "])\n",
    "\n",
    "clf.fit(x_train_balanced, y_train_balanced)\n",
    "y_predict = clf.predict(x_test)\n",
    "\n",
    "print(\"accuracy: \",accuracy_score(y_test,y_predict))\n",
    "print(classification_report(y_test,y_predict))\n",
    "print(confusion_matrix(y_test,y_predict))"
   ]
  },
  {
   "cell_type": "markdown",
   "id": "401fb1e6-ec6f-430a-a39f-33ddbd05d9d1",
   "metadata": {},
   "source": [
    "#### Having said that:\n",
    "\n",
    "- Though our performance has slightly decreased. So, we can considered choosing one of them to enhance our performance. We can still combine both and compare with other models."
   ]
  },
  {
   "cell_type": "markdown",
   "id": "0a21b18f-4ce0-45f1-9b20-aab942911eea",
   "metadata": {},
   "source": [
    "# Implementing other models"
   ]
  },
  {
   "cell_type": "markdown",
   "id": "2a9a3c7e-bf19-42ce-81a6-35b251aabb64",
   "metadata": {},
   "source": [
    "### -SVC"
   ]
  },
  {
   "cell_type": "code",
   "execution_count": 48,
   "id": "ee6ccd31-1197-4540-8c67-2b125407ea8a",
   "metadata": {},
   "outputs": [
    {
     "name": "stdout",
     "output_type": "stream",
     "text": [
      "Fitting 4 folds for each of 32 candidates, totalling 128 fits\n",
      "{'model__class_weight': None, 'model__decision_function_shape': 'ovo', 'model__gamma': 'scale', 'model__kernel': 'rbf'}\n"
     ]
    }
   ],
   "source": [
    "from sklearn.svm import SVC\n",
    "\n",
    "clf_svc = ImblearnPipeline(steps=[\n",
    "    (\"preprocessor\",preprocessor),\n",
    "    (\"oversampler\", balance_data),\n",
    "    (\"model\",SVC(random_state=2024))\n",
    "])\n",
    "\n",
    "param_grid = {\n",
    "    \"model__gamma\":[\"scale\", \"auto\"],\n",
    "    \"model__kernel\":[\"linear\", \"poly\", \"rbf\", \"sigmoid\"],\n",
    "    \"model__decision_function_shape\":[\"ovo\", \"ovr\"],\n",
    "    \"model__class_weight\": [\"balanced\", None]\n",
    "}\n",
    "\n",
    "grid_search_svc = GridSearchCV(clf_svc,param_grid=param_grid,cv=4,error_score='raise',verbose=1,n_jobs=-1)\n",
    "\n",
    "grid_search_svc.fit(x_train_balanced, y_train_balanced)\n",
    "\n",
    "y_predict = grid_search_svc.predict(x_test)\n",
    "print(grid_search_svc.best_params_)"
   ]
  },
  {
   "cell_type": "code",
   "execution_count": 49,
   "id": "a8f768cb-bff5-4438-8e6e-7b78db6cc876",
   "metadata": {},
   "outputs": [
    {
     "name": "stdout",
     "output_type": "stream",
     "text": [
      "accuracy:  0.847542627883651\n",
      "              precision    recall  f1-score   support\n",
      "\n",
      "           0       0.96      0.87      0.92       942\n",
      "           1       0.16      0.42      0.23        55\n",
      "\n",
      "    accuracy                           0.85       997\n",
      "   macro avg       0.56      0.65      0.57       997\n",
      "weighted avg       0.92      0.85      0.88       997\n",
      "\n",
      "[[822 120]\n",
      " [ 32  23]]\n"
     ]
    }
   ],
   "source": [
    "clf_svc = ImblearnPipeline(steps=[\n",
    "    (\"preprocessor\",preprocessor),\n",
    "    (\"oversampler\", balance_data),\n",
    "    (\"model\",SVC(class_weight=None,decision_function_shape=\"ovo\",gamma= \"scale\",kernel=\"rbf\",random_state=2024))\n",
    "])\n",
    "\n",
    "clf_svc.fit(x_train_balanced, y_train_balanced)\n",
    "y_predict = clf_svc.predict(x_test)\n",
    "\n",
    "print(\"accuracy: \",accuracy_score(y_test,y_predict))\n",
    "print(classification_report(y_test,y_predict))\n",
    "print(confusion_matrix(y_test,y_predict))\n"
   ]
  },
  {
   "cell_type": "markdown",
   "id": "79f444e1-dc22-4bf9-9ae2-76313ad32011",
   "metadata": {},
   "source": [
    "### -DecisionTree"
   ]
  },
  {
   "cell_type": "code",
   "execution_count": 28,
   "id": "9d7ff50f-7428-4d56-9674-bc75f194b5d0",
   "metadata": {},
   "outputs": [
    {
     "name": "stdout",
     "output_type": "stream",
     "text": [
      "Fitting 4 folds for each of 48 candidates, totalling 192 fits\n",
      "{'model__criterion': 'gini', 'model__max_depth': 50, 'model__max_features': None, 'model__splitter': 'best'}\n"
     ]
    }
   ],
   "source": [
    "from sklearn.tree import DecisionTreeClassifier\n",
    "\n",
    "clf_des_tree = ImblearnPipeline(steps=[\n",
    "    (\"preprocessor\",preprocessor),\n",
    "    (\"oversampler\", balance_data),\n",
    "    (\"model\",DecisionTreeClassifier(random_state=2024))\n",
    "])\n",
    "\n",
    "param_grid = {\n",
    "    \"model__criterion\": [\"gini\", \"entropy\"],\n",
    "    \"model__splitter\":[\"best\", \"random\"],\n",
    "    \"model__max_features\": [\"sqrt\", \"log2\",None],\n",
    "    \"model__max_depth\":[5,10,20,50]\n",
    "}\n",
    "\n",
    "grid_search_des_tree = GridSearchCV(clf_des_tree,param_grid=param_grid,cv=4,error_score='raise',verbose=1,n_jobs=-1)\n",
    "\n",
    "grid_search_des_tree.fit(x_train_balanced, y_train_balanced)\n",
    "\n",
    "y_predict = grid_search_des_tree.predict(x_test)\n",
    "print(grid_search_des_tree.best_params_)"
   ]
  },
  {
   "cell_type": "code",
   "execution_count": 29,
   "id": "80040c57-ee98-402c-8c75-1bc955bb6c3f",
   "metadata": {},
   "outputs": [
    {
     "name": "stdout",
     "output_type": "stream",
     "text": [
      "accuracy:  0.8896690070210632\n",
      "              precision    recall  f1-score   support\n",
      "\n",
      "           0       0.96      0.92      0.94       942\n",
      "           1       0.18      0.29      0.23        55\n",
      "\n",
      "    accuracy                           0.89       997\n",
      "   macro avg       0.57      0.61      0.58       997\n",
      "weighted avg       0.91      0.89      0.90       997\n",
      "\n",
      "[[871  71]\n",
      " [ 39  16]]\n"
     ]
    }
   ],
   "source": [
    "clf_des_tree = ImblearnPipeline(steps=[\n",
    "    (\"preprocessor\",preprocessor),\n",
    "    (\"oversampler\", balance_data),\n",
    "    (\"model\",DecisionTreeClassifier(criterion= \"gini\",max_depth=50,max_features=None,splitter=\"best\",random_state=2024))\n",
    "])\n",
    "\n",
    "clf_des_tree.fit(x_train_balanced, y_train_balanced)\n",
    "y_predict = clf_des_tree.predict(x_test)\n",
    "\n",
    "print(\"accuracy: \",accuracy_score(y_test,y_predict))\n",
    "print(classification_report(y_test,y_predict))\n",
    "print(confusion_matrix(y_test,y_predict))"
   ]
  },
  {
   "cell_type": "markdown",
   "id": "78c75223-9c86-4e93-966f-3e68b32a8436",
   "metadata": {},
   "source": [
    "## We can conclude that:\n",
    "\n",
    "#### It's up to our customer (the hospital) to find the best model. \n",
    "\n",
    "#### Having said that:\n",
    "- In this dataset, randomForest shows the best performance metrics after balanced data and finds the best parameter. \n",
    "- However, when we are working in the medical field, we want to predict more people having strokes in order to get more testing on patients. \n",
    "- So, SVC will be suitable in this case.\n",
    "\n",
    "\n",
    "\n"
   ]
  }
 ],
 "metadata": {
  "kernelspec": {
   "display_name": "Python 3 (ipykernel)",
   "language": "python",
   "name": "python3"
  },
  "language_info": {
   "codemirror_mode": {
    "name": "ipython",
    "version": 3
   },
   "file_extension": ".py",
   "mimetype": "text/x-python",
   "name": "python",
   "nbconvert_exporter": "python",
   "pygments_lexer": "ipython3",
   "version": "3.9.13"
  }
 },
 "nbformat": 4,
 "nbformat_minor": 5
}
